{
  "nbformat": 4,
  "nbformat_minor": 0,
  "metadata": {
    "colab": {
      "provenance": []
    },
    "kernelspec": {
      "name": "python3",
      "display_name": "Python 3"
    },
    "language_info": {
      "name": "python"
    }
  },
  "cells": [
    {
      "cell_type": "markdown",
      "source": [
        "Downloading DataSet"
      ],
      "metadata": {
        "id": "S1aFgimPvOfX"
      }
    },
    {
      "cell_type": "code",
      "source": [
        "! kaggle datasets download mlg-ulb/creditcardfraud"
      ],
      "metadata": {
        "id": "-MNjBiaYeCox"
      },
      "execution_count": null,
      "outputs": []
    },
    {
      "cell_type": "markdown",
      "source": [
        "Working on DataSet"
      ],
      "metadata": {
        "id": "amcm_sXpvXKP"
      }
    },
    {
      "cell_type": "code",
      "source": [
        "# Importing Libraries\n",
        "import pandas as pd\n",
        "import numpy as np\n",
        "import matplotlib.pyplot as plt\n",
        "import seaborn as sns"
      ],
      "metadata": {
        "id": "mGoVnzHieCr4"
      },
      "execution_count": null,
      "outputs": []
    },
    {
      "cell_type": "code",
      "source": [
        "# unziping dataset\n",
        "!unzip \\*.zip && rm *.zip"
      ],
      "metadata": {
        "id": "P2u2aB32vubu"
      },
      "execution_count": null,
      "outputs": []
    },
    {
      "cell_type": "code",
      "source": [
        "# reading dataset\n",
        "credit = pd.read_csv('creditcard.csv')"
      ],
      "metadata": {
        "id": "mjfaHkT5eCyB"
      },
      "execution_count": null,
      "outputs": []
    },
    {
      "cell_type": "code",
      "source": [
        "credit.head()"
      ],
      "metadata": {
        "id": "cRZrxDfY1jUi"
      },
      "execution_count": null,
      "outputs": []
    },
    {
      "cell_type": "code",
      "source": [
        "credit.describe()"
      ],
      "metadata": {
        "id": "xfpBtUPI1jXa"
      },
      "execution_count": null,
      "outputs": []
    },
    {
      "cell_type": "code",
      "source": [
        "credit.info()"
      ],
      "metadata": {
        "id": "MXR3F4ZV1jac"
      },
      "execution_count": null,
      "outputs": []
    },
    {
      "cell_type": "code",
      "source": [
        "# Checking missing values\n",
        "credit.isnull().sum()"
      ],
      "metadata": {
        "id": "2YVWuc-B4hxP"
      },
      "execution_count": null,
      "outputs": []
    },
    {
      "cell_type": "code",
      "source": [
        "credit.columns"
      ],
      "metadata": {
        "id": "PnLSDfVN1jdk"
      },
      "execution_count": null,
      "outputs": []
    },
    {
      "cell_type": "code",
      "source": [
        "credit['Class'].value_counts()"
      ],
      "metadata": {
        "id": "GDjg_caH48GO"
      },
      "execution_count": null,
      "outputs": []
    },
    {
      "cell_type": "markdown",
      "source": [
        "This dataset is highly unbalanced;\n",
        "0--> Legit Transaction,\n",
        "1--> Fraud Transaction"
      ],
      "metadata": {
        "id": "jkpldKk85X42"
      }
    },
    {
      "cell_type": "code",
      "source": [
        "legit = credit[credit.Class == 0]\n",
        "fraud = credit[credit.Class == 1]"
      ],
      "metadata": {
        "id": "7qvbjonK58uW"
      },
      "execution_count": null,
      "outputs": []
    },
    {
      "cell_type": "code",
      "source": [
        "print(legit.shape)\n",
        "print(fraud.shape)"
      ],
      "metadata": {
        "id": "IW4406Xl7M5W"
      },
      "execution_count": null,
      "outputs": []
    },
    {
      "cell_type": "code",
      "source": [
        "legit.Amount.describe()"
      ],
      "metadata": {
        "id": "bBzzuDkO7NY_"
      },
      "execution_count": null,
      "outputs": []
    },
    {
      "cell_type": "code",
      "source": [
        "fraud.Amount.describe()"
      ],
      "metadata": {
        "id": "uVKA6QFU7Nbn"
      },
      "execution_count": null,
      "outputs": []
    },
    {
      "cell_type": "code",
      "source": [
        "credit.groupby('Class').mean()"
      ],
      "metadata": {
        "id": "HgBjjph_7Nef"
      },
      "execution_count": null,
      "outputs": []
    },
    {
      "cell_type": "markdown",
      "source": [
        "Building a sample dataset containing siimilar distribution of normal transaction of Fraudelent transaction"
      ],
      "metadata": {
        "id": "qSz-XDRdJoP8"
      }
    },
    {
      "cell_type": "markdown",
      "source": [
        "No. of fraudelent transaction = 492"
      ],
      "metadata": {
        "id": "kDL-1VQ8KZ9j"
      }
    },
    {
      "cell_type": "code",
      "source": [
        "# Creating new Sample dataset\n",
        "legit_sample = legit.sample(n = 492)"
      ],
      "metadata": {
        "id": "xR2-J7yI7M2m"
      },
      "execution_count": null,
      "outputs": []
    },
    {
      "cell_type": "code",
      "source": [
        "new_dataset = pd.concat([legit_sample, fraud],axis = 0)"
      ],
      "metadata": {
        "id": "2vw__6007Mzu"
      },
      "execution_count": null,
      "outputs": []
    },
    {
      "cell_type": "code",
      "source": [
        "new_dataset.head()"
      ],
      "metadata": {
        "id": "uTsYBgua7Mw2"
      },
      "execution_count": null,
      "outputs": []
    },
    {
      "cell_type": "code",
      "source": [
        "new_dataset.tail()"
      ],
      "metadata": {
        "id": "zap-PeseMhcE"
      },
      "execution_count": null,
      "outputs": []
    },
    {
      "cell_type": "code",
      "source": [
        "new_dataset['Class'].value_counts()"
      ],
      "metadata": {
        "id": "nWwlIRg8MhY8"
      },
      "execution_count": null,
      "outputs": []
    },
    {
      "cell_type": "code",
      "source": [
        "new_dataset.groupby('Class').mean()"
      ],
      "metadata": {
        "id": "XpOKoZWsMhV0"
      },
      "execution_count": null,
      "outputs": []
    },
    {
      "cell_type": "markdown",
      "source": [
        "Splitting the data into Features or Targets"
      ],
      "metadata": {
        "id": "_DYfh5NjOwYs"
      }
    },
    {
      "cell_type": "code",
      "source": [
        "X = new_dataset.drop('Class',axis = 1)"
      ],
      "metadata": {
        "id": "PTJp5Xvc1y9s"
      },
      "execution_count": null,
      "outputs": []
    },
    {
      "cell_type": "code",
      "source": [
        "y = new_dataset['Class']"
      ],
      "metadata": {
        "id": "zvRts9Bm1y3i"
      },
      "execution_count": null,
      "outputs": []
    },
    {
      "cell_type": "code",
      "source": [
        "print(X)"
      ],
      "metadata": {
        "id": "bbs-V5-DMhS8"
      },
      "execution_count": null,
      "outputs": []
    },
    {
      "cell_type": "code",
      "source": [
        "print(y)"
      ],
      "metadata": {
        "id": "KZkN3hgMOb2E"
      },
      "execution_count": null,
      "outputs": []
    },
    {
      "cell_type": "markdown",
      "source": [
        "Splitting dataset for Testing and Training model"
      ],
      "metadata": {
        "id": "mz53epW8PqrE"
      }
    },
    {
      "cell_type": "code",
      "source": [
        "from sklearn.model_selection import train_test_split\n",
        "X_train,X_test,y_train,y_test = train_test_split(X, y, train_size=0.8, stratify = y, random_state=2)"
      ],
      "metadata": {
        "id": "RG56hKKq1zAa"
      },
      "execution_count": null,
      "outputs": []
    },
    {
      "cell_type": "code",
      "source": [
        "X_train.shape,X_test.shape,y_train.shape,y_test.shape"
      ],
      "metadata": {
        "id": "4b6gm1EG2ZTC"
      },
      "execution_count": null,
      "outputs": []
    },
    {
      "cell_type": "markdown",
      "source": [
        "Model Training"
      ],
      "metadata": {
        "id": "cQm1K82xSZqc"
      }
    },
    {
      "cell_type": "code",
      "source": [
        "from sklearn.linear_model import LogisticRegression\n",
        "model = LogisticRegression()"
      ],
      "metadata": {
        "id": "ZzQyUcgkSfqj"
      },
      "execution_count": null,
      "outputs": []
    },
    {
      "cell_type": "code",
      "source": [
        "model.fit(X_train,y_train)"
      ],
      "metadata": {
        "id": "5EhQiJB9d8zC"
      },
      "execution_count": null,
      "outputs": []
    },
    {
      "cell_type": "code",
      "source": [
        "pred = model.predict(X_test)"
      ],
      "metadata": {
        "id": "lEdPqcX40zAf"
      },
      "execution_count": 45,
      "outputs": []
    },
    {
      "cell_type": "code",
      "source": [
        "pred"
      ],
      "metadata": {
        "id": "pBOAYMFo0zDf"
      },
      "execution_count": null,
      "outputs": []
    },
    {
      "cell_type": "code",
      "source": [
        "from  sklearn.metrics import accuracy_score, classification_report\n",
        "print(accuracy_score(y_test,pred)*100)"
      ],
      "metadata": {
        "id": "Y1jcKWpH0zGm"
      },
      "execution_count": null,
      "outputs": []
    },
    {
      "cell_type": "code",
      "source": [
        "print(classification_report(y_test,pred))"
      ],
      "metadata": {
        "id": "-tYdUwKG0zM2"
      },
      "execution_count": null,
      "outputs": []
    },
    {
      "cell_type": "code",
      "source": [],
      "metadata": {
        "id": "IN8oHS4i0zPv"
      },
      "execution_count": null,
      "outputs": []
    }
  ]
}